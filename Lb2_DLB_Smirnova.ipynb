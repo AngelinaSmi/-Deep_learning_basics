{
  "metadata": {
    "kernelspec": {
      "name": "python",
      "display_name": "Python (Pyodide)",
      "language": "python"
    },
    "language_info": {
      "codemirror_mode": {
        "name": "python",
        "version": 3
      },
      "file_extension": ".py",
      "mimetype": "text/x-python",
      "name": "python",
      "nbconvert_exporter": "python",
      "pygments_lexer": "ipython3",
      "version": "3.8"
    }
  },
  "nbformat_minor": 5,
  "nbformat": 4,
  "cells": [
    {
      "id": "7c87de61-3f45-4fcb-8a84-2e02cc2c3522",
      "cell_type": "markdown",
      "source": "# Лабораторня работа № 2 Смирновой А.Е.",
      "metadata": {}
    },
    {
      "id": "6a2ed804-89c9-452d-ac06-d7275e75c233",
      "cell_type": "code",
      "source": "# Здание 1:создайте список, заполненный случайными числами\nimport random\nlst = [random.randint(1, 100) for _ in range(10)]\nlst",
      "metadata": {
        "trusted": true
      },
      "outputs": [
        {
          "execution_count": 11,
          "output_type": "execute_result",
          "data": {
            "text/plain": "[69, 67, 12, 21, 32, 68, 88, 19, 76, 55]"
          },
          "metadata": {}
        }
      ],
      "execution_count": 11
    },
    {
      "id": "0f9101bb-d044-4330-8dff-2ce4e72b6edf",
      "cell_type": "code",
      "source": "# Здание 2-3: создайте цикл, который проходит все элементы списка и суммирует только четные значения, выведите полученную сумму \nsum = 0\nfor num in lst:\n    if num % 2 == 0:\n        sum += num\nprint(\"Сумма четных чисел:\", sum)",
      "metadata": {
        "trusted": true
      },
      "outputs": [
        {
          "name": "stdout",
          "output_type": "stream",
          "text": "Сумма четных чисел: 276\n"
        }
      ],
      "execution_count": 12
    },
    {
      "id": "18071533-51e3-4b9c-9da8-ef5e273460fc",
      "cell_type": "code",
      "source": "# Здание 4: измените программу так, чтобы нейрон  работал с тремя признаками",
      "metadata": {
        "trusted": true
      },
      "outputs": [],
      "execution_count": null
    },
    {
      "id": "7796744e-be1e-4ee4-a892-3ee2bb73efe9",
      "cell_type": "code",
      "source": "import pandas as pd # библиотека pandas нужна для работы с данными\nimport matplotlib.pyplot as plt # matplotlib для построения графиков\nimport numpy as np # numpy для работы с векторами и матрицами\n# Считываем данные \ndf = pd.read_csv('data.csv')\n# смотрим что в них\nprint(df.head())\n\n# три столбца - это признаки, четвертый - целевая переменная (то, что мы хотим предсказывать)\n\n# выделим целевую переменную в отдельную переменную\ny = df.iloc[:, 4].values\n\n# так как ответы у нас строки - нужно перейти к численным значениям\ny = np.where(y == \"Iris-setosa\", 1, -1)\n\n# возьмем два признака, чтобы было удобне визуализировать задачу\nX = df.iloc[:, [0, 1, 2]].values",
      "metadata": {
        "trusted": true
      },
      "outputs": [
        {
          "name": "stdout",
          "output_type": "stream",
          "text": "     0    1    2    3                4\n0  5.1  3.8  1.9  0.4      Iris-setosa\n1  4.4  3.2  1.3  0.2      Iris-setosa\n2  4.3  3.0  1.1  0.1      Iris-setosa\n3  5.8  2.7  4.1  1.0  Iris-versicolor\n4  5.7  4.4  1.5  0.4      Iris-setosa\n"
        }
      ],
      "execution_count": 13
    },
    {
      "id": "9622f658-0273-4055-9aa7-2a41cc056066",
      "cell_type": "code",
      "source": "# переходим к созданию нейрона\n# функция нейрона:\n# значение = w1*признак1+w2*признак2+w0\n# ответ = 1, если значение > 0\n# ответ = -1, если значение < 0\n\ndef neuron(w,x):\n    if((w[1]*x[0]+w[2]*x[1]+ w[3]*x[2]+w[0])>=0):\n        predict = 1\n    else: \n        predict = -1\n    return predict\n\n# проверим как это работает (веса зададим пока произвольно)\nw = np.array([0, 0.1, 0.4, 0.2])\nprint(neuron(w,X[1])) # вывод ответа нейрона для примера с номером 1",
      "metadata": {
        "trusted": true
      },
      "outputs": [
        {
          "name": "stdout",
          "output_type": "stream",
          "text": "1\n"
        }
      ],
      "execution_count": 21
    },
    {
      "id": "56f5dcdb-2da8-4fc3-9721-27e801800451",
      "cell_type": "code",
      "source": "# теперь создадим процедуру обучения\n# корректировка веса производится по выражению:\n# w_new = w_old + eta*x*y\n\n# зададим начальные значения весов\nw = np.random.random(4)\neta = 0.01  # скорость обучения\nw_iter = [] # пустой список, в него будем добавлять веса, чтобы потом построить график\nfor xi, target, j in zip(X, y, range(X.shape[0])):\n    predict = neuron(w,xi)   \n    w[1:] += (eta * (target - predict)) * xi # target - predict - это и есть ошибка\n    w[0] += eta * (target - predict)\n    # каждую 10ю итерацию будем сохранять набор весов в специальном списке\n    if(j%10==0):\n        w_iter.append(w.tolist())\n\n# посчитаем ошибки\nsum_err = 0\nfor xi, target in zip(X, y):\n    predict = neuron(w,xi) \n    sum_err += (target - predict)/2\n\nprint(\"Всего ошибок: \", sum_err)",
      "metadata": {
        "trusted": true
      },
      "outputs": [
        {
          "name": "stdout",
          "output_type": "stream",
          "text": "Всего ошибок:  0.0\n"
        }
      ],
      "execution_count": 22
    },
    {
      "id": "5a225d90-0b63-40ed-9f06-8fd3ef8f4842",
      "cell_type": "code",
      "source": "",
      "metadata": {
        "trusted": true
      },
      "outputs": [],
      "execution_count": null
    },
    {
      "id": "d0c1a98e-ba0c-4668-b84e-b3f013204ee7",
      "cell_type": "code",
      "source": "",
      "metadata": {
        "trusted": true
      },
      "outputs": [],
      "execution_count": null
    }
  ]
}